{
 "cells": [
  {
   "cell_type": "markdown",
   "id": "9742be4b",
   "metadata": {},
   "source": [
    "# Simple Two-Layer Neural Network for MNIST Classification"
   ]
  },
  {
   "cell_type": "code",
   "execution_count": 1,
   "id": "24b7cbd1",
   "metadata": {},
   "outputs": [],
   "source": [
    "import numpy as np\n",
    "import matplotlib.pyplot as plt\n",
    "from tensorflow.keras.datasets import mnist"
   ]
  },
  {
   "cell_type": "markdown",
   "id": "2e8d7a71",
   "metadata": {},
   "source": [
    "##### Load MNIST dataset"
   ]
  },
  {
   "cell_type": "code",
   "execution_count": 2,
   "id": "6264978d",
   "metadata": {},
   "outputs": [],
   "source": [
    "(X_train,y_train),(X_test,y_test)=mnist.load_data()"
   ]
  },
  {
   "cell_type": "markdown",
   "id": "484ec76c",
   "metadata": {},
   "source": [
    "#### Display sample images"
   ]
  },
  {
   "cell_type": "code",
   "execution_count": 3,
   "id": "b68725d1",
   "metadata": {},
   "outputs": [
    {
     "data": {
      "image/png": "[encoded data removed]",
      "text/plain": [
       "<Figure size 1200x500 with 10 Axes>"
      ]
     },
     "metadata": {},
     "output_type": "display_data"
    }
   ],
   "source": [
    "def display_samples(X, y, num_samples=10):\n",
    "    fig, ax = plt.subplots(2, 5, figsize=(12, 5))\n",
    "    ax = ax.flatten()\n",
    "    for i in range(num_samples):\n",
    "        ax[i].imshow(X[i], cmap='gray')\n",
    "        ax[i].set_title(y[i])\n",
    "        ax[i].axis('off')\n",
    "    plt.show()\n",
    "display_samples(X_train, y_train)"
   ]
  },
  {
   "cell_type": "code",
   "execution_count": 4,
   "id": "e104428b",
   "metadata": {},
   "outputs": [],
   "source": [
    "def one_hot_encode(y, num_classes):\n",
    "    return np.squeeze(np.eye(num_classes)[y.reshape(-1)])"
   ]
  },
  {
   "cell_type": "code",
   "execution_count": 5,
   "id": "a5ad04ed",
   "metadata": {},
   "outputs": [],
   "source": [
    "# Prepare training and testing datasets\n",
    "X_train = X_train.reshape(60000, 784).T / 255.0\n",
    "y_train = one_hot_encode(y_train, 10).T\n",
    "X_test = X_test.reshape(10000, 784).T / 255.0\n",
    "y_test = one_hot_encode(y_test, 10).T"
   ]
  },
  {
   "cell_type": "markdown",
   "id": "981d25f4",
   "metadata": {},
   "source": [
    "##### Initialize parameters"
   ]
  },
  {
   "cell_type": "code",
   "execution_count": 6,
   "id": "f4f381a8",
   "metadata": {},
   "outputs": [],
   "source": [
    "def initialize_parameters():\n",
    "    np.random.seed(101)\n",
    "    W1 = np.random.randn(10, 784) * 0.01\n",
    "    b1 = np.zeros((10, 1))\n",
    "    W2 = np.random.randn(10, 10) * 0.01\n",
    "    b2 = np.zeros((10, 1))\n",
    "    return {'W1': W1, 'b1': b1, 'W2': W2, 'b2': b2}"
   ]
  },
  {
   "cell_type": "markdown",
   "id": "5437af84",
   "metadata": {},
   "source": [
    "##### Activation functions"
   ]
  },
  {
   "cell_type": "code",
   "execution_count": 7,
   "id": "f28fd349",
   "metadata": {},
   "outputs": [],
   "source": [
    "def relu(z):\n",
    "    return np.maximum(0, z)"
   ]
  },
  {
   "cell_type": "code",
   "execution_count": 8,
   "id": "a9c8863a",
   "metadata": {},
   "outputs": [],
   "source": [
    "def relu_derivative(A):\n",
    "    return (A > 0).astype(float)"
   ]
  },
  {
   "cell_type": "code",
   "execution_count": 9,
   "id": "d753b9f8",
   "metadata": {},
   "outputs": [],
   "source": [
    "def softmax(z):\n",
    "    exp_z = np.exp(z - np.max(z))\n",
    "    return exp_z / np.sum(exp_z, axis=0, keepdims=True)"
   ]
  },
  {
   "cell_type": "markdown",
   "id": "ea357d46",
   "metadata": {},
   "source": [
    "##### Forward propagation"
   ]
  },
  {
   "cell_type": "code",
   "execution_count": 10,
   "id": "2a3a812c",
   "metadata": {},
   "outputs": [],
   "source": [
    "def forward_propagation(X, params):\n",
    "    W1, b1, W2, b2 = params['W1'], params['b1'], params['W2'], params['b2']\n",
    "    \n",
    "    Z1 = np.dot(W1, X) + b1\n",
    "    A1 = relu(Z1)\n",
    "    \n",
    "    Z2 = np.dot(W2, A1) + b2\n",
    "    A2 = softmax(Z2)\n",
    "    \n",
    "    cache = {'Z1': Z1, 'A1': A1, 'Z2': Z2, 'A2': A2}\n",
    "    return cache, A2"
   ]
  },
  {
   "cell_type": "markdown",
   "id": "d3f189d6",
   "metadata": {},
   "source": [
    "##### Backward propagation"
   ]
  },
  {
   "cell_type": "code",
   "execution_count": 11,
   "id": "2f2b4601",
   "metadata": {},
   "outputs": [],
   "source": [
    "def backward_propagation(X, y, params, cache):\n",
    "    W1, W2 = params['W1'], params['W2']\n",
    "    A1, A2 = cache['A1'], cache['A2']\n",
    "    m = y.shape[1]\n",
    "\n",
    "    dZ2 = A2 - y\n",
    "    dW2 = np.dot(dZ2, A1.T) / m\n",
    "    db2 = np.sum(dZ2, axis=1, keepdims=True) / m\n",
    "\n",
    "    dZ1 = np.dot(W2.T, dZ2) * relu_derivative(A1)\n",
    "    dW1 = np.dot(dZ1, X.T) / m\n",
    "    db1 = np.sum(dZ1, axis=1, keepdims=True) / m\n",
    "\n",
    "    return {'dW1': dW1, 'db1': db1, 'dW2': dW2, 'db2': db2}"
   ]
  },
  {
   "cell_type": "markdown",
   "id": "bb5fb4d2",
   "metadata": {},
   "source": [
    "##### Update parameters"
   ]
  },
  {
   "cell_type": "code",
   "execution_count": 12,
   "id": "18b47a5c",
   "metadata": {},
   "outputs": [],
   "source": [
    "\n",
    "def update_parameters(params, gradients, learning_rate):\n",
    "    params['W1'] -= learning_rate * gradients['dW1']\n",
    "    params['b1'] -= learning_rate * gradients['db1']\n",
    "    params['W2'] -= learning_rate * gradients['dW2']\n",
    "    params['b2'] -= learning_rate * gradients['db2']\n",
    "    return params"
   ]
  },
  {
   "cell_type": "markdown",
   "id": "be596d2f",
   "metadata": {},
   "source": [
    "##### Neural network model"
   ]
  },
  {
   "cell_type": "code",
   "execution_count": 13,
   "id": "ea53b490",
   "metadata": {},
   "outputs": [],
   "source": [
    "\n",
    "def nn_2_layer(X, y, iterations, learning_rate):\n",
    "    params = initialize_parameters()\n",
    "    for i in range(iterations):\n",
    "        cache, A2 = forward_propagation(X, params)\n",
    "        cost = -np.mean(y * np.log(A2 + 1e-8))\n",
    "        accuracy = np.mean(np.argmax(A2, axis=0) == np.argmax(y, axis=0)) * 100\n",
    "\n",
    "        gradients = backward_propagation(X, y, params, cache)\n",
    "        params = update_parameters(params, gradients, learning_rate)\n",
    "\n",
    "        if i % 10 == 0:\n",
    "            print(f\"Cost after iteration {i}: {cost:.6f} | Accuracy: {accuracy:.2f}%\")\n",
    "    return params"
   ]
  },
  {
   "cell_type": "code",
   "execution_count": 14,
   "id": "52e99db7",
   "metadata": {},
   "outputs": [
    {
     "name": "stdout",
     "output_type": "stream",
     "text": [
      "Cost after iteration 0: 0.230267 | Accuracy: 9.28%\n",
      "Cost after iteration 10: 0.229518 | Accuracy: 12.83%\n",
      "Cost after iteration 20: 0.223094 | Accuracy: 31.83%\n",
      "Cost after iteration 30: 0.185379 | Accuracy: 52.04%\n",
      "Cost after iteration 40: 0.123359 | Accuracy: 67.94%\n",
      "Cost after iteration 50: 0.089636 | Accuracy: 76.24%\n",
      "Cost after iteration 60: 0.071945 | Accuracy: 81.13%\n",
      "Cost after iteration 70: 0.061373 | Accuracy: 83.74%\n",
      "Cost after iteration 80: 0.056556 | Accuracy: 83.74%\n",
      "Cost after iteration 90: 0.056280 | Accuracy: 81.99%\n",
      "Cost after iteration 100: 0.047166 | Accuracy: 86.86%\n",
      "Cost after iteration 110: 0.044446 | Accuracy: 87.67%\n",
      "Cost after iteration 120: 0.042518 | Accuracy: 88.22%\n",
      "Cost after iteration 130: 0.041001 | Accuracy: 88.57%\n",
      "Cost after iteration 140: 0.039766 | Accuracy: 88.89%\n",
      "Cost after iteration 150: 0.038738 | Accuracy: 89.13%\n",
      "Cost after iteration 160: 0.037867 | Accuracy: 89.40%\n",
      "Cost after iteration 170: 0.037117 | Accuracy: 89.60%\n",
      "Cost after iteration 180: 0.036461 | Accuracy: 89.80%\n",
      "Cost after iteration 190: 0.035882 | Accuracy: 89.91%\n",
      "Cost after iteration 200: 0.035363 | Accuracy: 90.01%\n"
     ]
    }
   ],
   "source": [
    "# Train the model\n",
    "trained_params = nn_2_layer(X_train, y_train, iterations=201, learning_rate=0.3)"
   ]
  },
  {
   "cell_type": "code",
   "execution_count": 15,
   "id": "c14f1684",
   "metadata": {},
   "outputs": [
    {
     "name": "stdout",
     "output_type": "stream",
     "text": [
      "Accuracy: 90.16%\n"
     ]
    }
   ],
   "source": [
    "# Evaluate accuracy on test data\n",
    "def calculate_accuracy(y_true, y_pred):\n",
    "    accuracy = np.mean(y_true == y_pred) * 100\n",
    "    print(f'Accuracy: {accuracy:.2f}%')\n",
    "\n",
    "cache, A2 = forward_propagation(X_test, trained_params)\n",
    "y_pred = np.argmax(A2, axis=0)\n",
    "y_test_labels = np.argmax(y_test, axis=0)\n",
    "calculate_accuracy(y_test_labels, y_pred)"
   ]
  },
  {
   "cell_type": "code",
   "execution_count": 16,
   "id": "7eb2a795",
   "metadata": {},
   "outputs": [],
   "source": [
    "# Visualize a single prediction\n",
    "def visualize_prediction(img, prediction):\n",
    "    plt.imshow(img.reshape(28, 28), cmap='gray')\n",
    "    plt.axis('off')\n",
    "    plt.title(f\"Prediction: {prediction}\")\n",
    "    plt.show()"
   ]
  },
  {
   "cell_type": "code",
   "execution_count": 27,
   "id": "7d399adb",
   "metadata": {},
   "outputs": [
    {
     "data": {
      "image/png": "[encoded data removed]",
      "text/plain": [
       "<Figure size 640x480 with 1 Axes>"
      ]
     },
     "metadata": {},
     "output_type": "display_data"
    }
   ],
   "source": [
    "# Test a single prediction\n",
    "sample_img = X_test[:, 5626]\n",
    "cache, A2 = forward_propagation(sample_img.reshape(-1, 1), trained_params)\n",
    "predicted_label = np.argmax(A2, axis=0)\n",
    "visualize_prediction(sample_img, predicted_label)"
   ]
  }
 ],
 "metadata": {
  "kernelspec": {
   "display_name": "Python 3 (ipykernel)",
   "language": "python",
   "name": "python3"
  },
  "language_info": {
   "codemirror_mode": {
    "name": "ipython",
    "version": 3
   },
   "file_extension": ".py",
   "mimetype": "text/x-python",
   "name": "python",
   "nbconvert_exporter": "python",
   "pygments_lexer": "ipython3",
   "version": "3.12.3"
  }
 },
 "nbformat": 4,
 "nbformat_minor": 5
}
